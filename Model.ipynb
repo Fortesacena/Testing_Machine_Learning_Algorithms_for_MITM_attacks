{
 "cells": [
  {
   "cell_type": "code",
   "execution_count": 1,
   "metadata": {
    "id": "eWC4oSCYqOnA"
   },
   "outputs": [],
   "source": [
    "import pandas as pd"
   ]
  },
  {
   "cell_type": "code",
   "execution_count": 3,
   "metadata": {
    "id": "VrcHpCGA52eI"
   },
   "outputs": [],
   "source": [
    "read_data = pd.read_csv(\"Dataset/WIFIDATAcsv1.csv\",nrows=200)"
   ]
  },
  {
   "cell_type": "code",
   "execution_count": 5,
   "metadata": {
    "id": "MDesBHh1r-Y4"
   },
   "outputs": [],
   "source": [
    "applicable_features = [  \n",
    "                       \"ssid_name\",\n",
    "                       \"phy_type_id\",\n",
    "                       \"capabilities\",\n",
    "                       \"channel_center_freq_khz\",\n",
    "                       \"connection_mode\",\n",
    "                       \"authentication\",\n",
    "                       \"encryption\",\n",
    "                       \"vendor_name\",\n",
    "                       \"bssid\",\n",
    "                       \"mac\",\n",
    "                        \"result\" ]"
   ]
  },
  {
   "cell_type": "code",
   "execution_count": 7,
   "metadata": {
    "colab": {
     "base_uri": "https://localhost:8080/"
    },
    "collapsed": true,
    "id": "Ym02htZJsR0S",
    "jupyter": {
     "outputs_hidden": true
    },
    "outputId": "69d777dd-9067-4c16-cc32-044e3bfede00",
    "scrolled": true
   },
   "outputs": [
    {
     "name": "stdout",
     "output_type": "stream",
     "text": [
      "<class 'pandas.core.frame.DataFrame'>\n",
      "RangeIndex: 200 entries, 0 to 199\n",
      "Data columns (total 11 columns):\n",
      " #   Column                   Non-Null Count  Dtype  \n",
      "---  ------                   --------------  -----  \n",
      " 0   ssid_name                200 non-null    object \n",
      " 1   phy_type_id              200 non-null    int64  \n",
      " 2   capabilities             200 non-null    int64  \n",
      " 3   channel_center_freq_khz  200 non-null    int64  \n",
      " 4   connection_mode          200 non-null    object \n",
      " 5   authentication           200 non-null    object \n",
      " 6   encryption               200 non-null    object \n",
      " 7   vendor_name              200 non-null    object \n",
      " 8   bssid                    200 non-null    object \n",
      " 9   mac                      200 non-null    float64\n",
      " 10  result                   200 non-null    int64  \n",
      "dtypes: float64(1), int64(4), object(6)\n",
      "memory usage: 17.3+ KB\n"
     ]
    }
   ],
   "source": [
    "read_data = read_data[applicable_features]\n",
    "read_data.info()"
   ]
  },
  {
   "cell_type": "markdown",
   "metadata": {
    "id": "b9QU2s0IsXlp"
   },
   "source": [
    "Review of Dataset"
   ]
  },
  {
   "cell_type": "code",
   "execution_count": 9,
   "metadata": {
    "colab": {
     "base_uri": "https://localhost:8080/",
     "height": 374
    },
    "id": "70C8FKjqzIqo",
    "outputId": "e5adf876-4a23-490e-f5e1-5eb12d80f937",
    "scrolled": true
   },
   "outputs": [
    {
     "data": {
      "text/html": [
       "<div>\n",
       "<style scoped>\n",
       "    .dataframe tbody tr th:only-of-type {\n",
       "        vertical-align: middle;\n",
       "    }\n",
       "\n",
       "    .dataframe tbody tr th {\n",
       "        vertical-align: top;\n",
       "    }\n",
       "\n",
       "    .dataframe thead th {\n",
       "        text-align: right;\n",
       "    }\n",
       "</style>\n",
       "<table border=\"1\" class=\"dataframe\">\n",
       "  <thead>\n",
       "    <tr style=\"text-align: right;\">\n",
       "      <th></th>\n",
       "      <th>ssid_name</th>\n",
       "      <th>phy_type_id</th>\n",
       "      <th>capabilities</th>\n",
       "      <th>channel_center_freq_khz</th>\n",
       "      <th>connection_mode</th>\n",
       "      <th>authentication</th>\n",
       "      <th>encryption</th>\n",
       "      <th>vendor_name</th>\n",
       "      <th>bssid</th>\n",
       "      <th>mac</th>\n",
       "      <th>result</th>\n",
       "    </tr>\n",
       "  </thead>\n",
       "  <tbody>\n",
       "    <tr>\n",
       "      <th>0</th>\n",
       "      <td>Shaun 2.4GHz</td>\n",
       "      <td>8</td>\n",
       "      <td>5393</td>\n",
       "      <td>5785000</td>\n",
       "      <td>auto</td>\n",
       "      <td>WPA2PSK</td>\n",
       "      <td>AES</td>\n",
       "      <td>Unknown</td>\n",
       "      <td>70037E3BE342</td>\n",
       "      <td>7.350000e+13</td>\n",
       "      <td>1</td>\n",
       "    </tr>\n",
       "    <tr>\n",
       "      <th>1</th>\n",
       "      <td>CB</td>\n",
       "      <td>7</td>\n",
       "      <td>5425</td>\n",
       "      <td>2462000</td>\n",
       "      <td>auto</td>\n",
       "      <td>WPA2</td>\n",
       "      <td>AES</td>\n",
       "      <td>Officially Xerox, but 0:0:0:0:0:0 is more common</td>\n",
       "      <td>889E6846D879</td>\n",
       "      <td>1.340000e+14</td>\n",
       "      <td>1</td>\n",
       "    </tr>\n",
       "    <tr>\n",
       "      <th>2</th>\n",
       "      <td>SHAW-5C0570</td>\n",
       "      <td>7</td>\n",
       "      <td>3121</td>\n",
       "      <td>2462000</td>\n",
       "      <td>manual</td>\n",
       "      <td>open</td>\n",
       "      <td>none</td>\n",
       "      <td>XEROX CORPORATION</td>\n",
       "      <td>D8B6B72A8103</td>\n",
       "      <td>3.850000e+12</td>\n",
       "      <td>1</td>\n",
       "    </tr>\n",
       "    <tr>\n",
       "      <th>3</th>\n",
       "      <td>Madden Family</td>\n",
       "      <td>7</td>\n",
       "      <td>1041</td>\n",
       "      <td>2412000</td>\n",
       "      <td>auto</td>\n",
       "      <td>WPA2PSK</td>\n",
       "      <td>AES</td>\n",
       "      <td>OMRON TATEISI ELECTRONICS CO.</td>\n",
       "      <td>E4186BBE1136</td>\n",
       "      <td>5.940000e+13</td>\n",
       "      <td>1</td>\n",
       "    </tr>\n",
       "    <tr>\n",
       "      <th>4</th>\n",
       "      <td>Weeder 95</td>\n",
       "      <td>7</td>\n",
       "      <td>5425</td>\n",
       "      <td>2462000</td>\n",
       "      <td>auto</td>\n",
       "      <td>open</td>\n",
       "      <td>none</td>\n",
       "      <td>MATRIX CORPORATION</td>\n",
       "      <td>1033BFF55C6F</td>\n",
       "      <td>1.220000e+14</td>\n",
       "      <td>1</td>\n",
       "    </tr>\n",
       "  </tbody>\n",
       "</table>\n",
       "</div>"
      ],
      "text/plain": [
       "       ssid_name  phy_type_id  capabilities  channel_center_freq_khz  \\\n",
       "0   Shaun 2.4GHz            8          5393                  5785000   \n",
       "1             CB            7          5425                  2462000   \n",
       "2    SHAW-5C0570            7          3121                  2462000   \n",
       "3  Madden Family            7          1041                  2412000   \n",
       "4      Weeder 95            7          5425                  2462000   \n",
       "\n",
       "  connection_mode authentication encryption  \\\n",
       "0            auto        WPA2PSK        AES   \n",
       "1            auto           WPA2        AES   \n",
       "2          manual           open       none   \n",
       "3            auto        WPA2PSK        AES   \n",
       "4            auto           open       none   \n",
       "\n",
       "                                        vendor_name         bssid  \\\n",
       "0                                           Unknown  70037E3BE342   \n",
       "1  Officially Xerox, but 0:0:0:0:0:0 is more common  889E6846D879   \n",
       "2                                 XEROX CORPORATION  D8B6B72A8103   \n",
       "3                     OMRON TATEISI ELECTRONICS CO.  E4186BBE1136   \n",
       "4                                MATRIX CORPORATION  1033BFF55C6F   \n",
       "\n",
       "            mac  result  \n",
       "0  7.350000e+13       1  \n",
       "1  1.340000e+14       1  \n",
       "2  3.850000e+12       1  \n",
       "3  5.940000e+13       1  \n",
       "4  1.220000e+14       1  "
      ]
     },
     "execution_count": 9,
     "metadata": {},
     "output_type": "execute_result"
    }
   ],
   "source": [
    "read_data.head()"
   ]
  }
 ],
 "metadata": {
  "colab": {
   "collapsed_sections": [],
   "name": "Model.ipynb",
   "provenance": []
  },
  "kernelspec": {
   "display_name": "anaconda-panel-2023.05-py310",
   "language": "python",
   "name": "conda-env-anaconda-panel-2023.05-py310-py"
  },
  "language_info": {
   "codemirror_mode": {
    "name": "ipython",
    "version": 3
   },
   "file_extension": ".py",
   "mimetype": "text/x-python",
   "name": "python",
   "nbconvert_exporter": "python",
   "pygments_lexer": "ipython3",
   "version": "3.11.5"
  }
 },
 "nbformat": 4,
 "nbformat_minor": 4
}
